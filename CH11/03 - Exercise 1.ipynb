{
 "cells": [
  {
   "cell_type": "code",
   "execution_count": 1,
   "id": "4cc27131-a178-478c-b659-d3b60a658b7a",
   "metadata": {},
   "outputs": [],
   "source": [
    "import numpy as np\n",
    "import torch\n",
    "\n",
    "torch.manual_seed(0)\n",
    "\n",
    "import gpytorch\n",
    "import botorch\n",
    "\n",
    "from botorch.utils.multi_objective.pareto import is_non_dominated\n",
    "from botorch.utils.multi_objective.box_decompositions.dominated import DominatedPartitioning\n",
    "from botorch.utils.multi_objective.box_decompositions.non_dominated import FastNondominatedPartitioning\n",
    "from botorch.models.model_list_gp_regression import ModelListGP\n",
    "\n",
    "from botorch.acquisition.analytic import ExpectedImprovement\n",
    "from botorch.acquisition.multi_objective.analytic import ExpectedHypervolumeImprovement\n",
    "\n",
    "from botorch.optim.optimize import optimize_acqf\n",
    "\n",
    "import matplotlib.pyplot as plt\n",
    "\n",
    "plt.style.use(\"bmh\")\n",
    "plt.rcParams[\"figure.figsize\"] = (8, 6)\n",
    "\n",
    "from tqdm.notebook import tqdm\n",
    "import warnings"
   ]
  },
  {
   "cell_type": "code",
   "execution_count": 2,
   "id": "04e96168-2ca6-4681-baa1-cf98a66178cd",
   "metadata": {},
   "outputs": [],
   "source": [
    "def objective1(X):\n",
    "    X_copy = X.detach().clone()\n",
    "    X_copy[:, [2, 3]] = 1 - X_copy[:, [2, 3]]\n",
    "    X_copy = X_copy * 10 - 5\n",
    "\n",
    "    return -0.005 * (X_copy ** 4 - 16 * X_copy ** 2 + 5 * X_copy).sum(dim=-1) + 3\n",
    "\n",
    "\n",
    "def objective2(X):\n",
    "    X = X * 20 - 10\n",
    "\n",
    "    part1 = (X[..., 0] - 1) ** 2\n",
    "\n",
    "    i = X.new(range(2, 5))\n",
    "    part2 = torch.sum(i * (2.0 * X[..., 1:] ** 2 - X[..., :-1]) ** 2, dim=-1)\n",
    "\n",
    "    return (part1 + part2) / 100_000 - 2\n",
    "\n",
    "\n",
    "def joint_objective(X):\n",
    "    return torch.vstack(\n",
    "        [\n",
    "            objective1(X).flatten(),\n",
    "            objective2(X).flatten(),\n",
    "        ]\n",
    "    ).transpose(-1, -2)\n",
    "\n",
    "\n",
    "bounds = torch.tensor([[0.0] * 4, [1.0] * 4])"
   ]
  },
  {
   "cell_type": "code",
   "execution_count": 3,
   "id": "8bfb8ed5-0f14-452f-84ef-4c2c8c42c288",
   "metadata": {},
   "outputs": [
    {
     "data": {
      "text/plain": [
       "tensor([-1.5000, -2.0000])"
      ]
     },
     "execution_count": 3,
     "metadata": {},
     "output_type": "execute_result"
    }
   ],
   "source": [
    "n = 1_000_000\n",
    "torch.manual_seed(0)\n",
    "random_x = bounds[0] + (bounds[1] - bounds[0]) * torch.rand(n, 1)\n",
    "random_y = joint_objective(random_x)\n",
    "\n",
    "ref_point = torch.tensor([random_y[:, 0].min(), random_y[:, 1].min()])\n",
    "ref_point"
   ]
  },
  {
   "cell_type": "code",
   "execution_count": 4,
   "id": "71516a4e-a522-4630-9c61-dff806c14433",
   "metadata": {},
   "outputs": [],
   "source": [
    "class GPModel(gpytorch.models.ExactGP, botorch.models.gpytorch.GPyTorchModel):\n",
    "    _num_outputs = 1\n",
    "\n",
    "    def __init__(self, train_x, train_y, likelihood):\n",
    "        super().__init__(train_x, train_y, likelihood)\n",
    "        self.mean_module = gpytorch.means.ConstantMean()\n",
    "        self.covar_module = gpytorch.kernels.ScaleKernel(\n",
    "            gpytorch.kernels.MaternKernel(nu=2.5, ard_num_dims=4)\n",
    "        )\n",
    "\n",
    "    def forward(self, x):\n",
    "        mean_x = self.mean_module(x)\n",
    "        covar_x = self.covar_module(x)\n",
    "        return gpytorch.distributions.MultivariateNormal(mean_x, covar_x)\n",
    "\n",
    "\n",
    "def fit_gp_model(train_x, train_y, num_train_iters=500):\n",
    "    # declare the GP\n",
    "    noise = 1e-4\n",
    "\n",
    "    likelihood = gpytorch.likelihoods.GaussianLikelihood()\n",
    "    model = GPModel(train_x, train_y, likelihood)\n",
    "    model.likelihood.noise = noise\n",
    "\n",
    "    # train the hyperparameter (the constant)\n",
    "    optimizer = torch.optim.Adam(model.parameters(), lr=0.01)\n",
    "    mll = gpytorch.mlls.ExactMarginalLogLikelihood(likelihood, model)\n",
    "\n",
    "    model.train()\n",
    "    likelihood.train()\n",
    "\n",
    "    for i in range(num_train_iters):\n",
    "        optimizer.zero_grad()\n",
    "\n",
    "        output = model(train_x)\n",
    "        loss = -mll(output, train_y)\n",
    "\n",
    "        loss.backward()\n",
    "        optimizer.step()\n",
    "\n",
    "    model.eval()\n",
    "    likelihood.eval()\n",
    "\n",
    "    return model, likelihood"
   ]
  },
  {
   "cell_type": "code",
   "execution_count": 5,
   "id": "ccd861db-56e9-4736-81cc-1c30861cf876",
   "metadata": {},
   "outputs": [],
   "source": [
    "num_queries = 50\n",
    "num_repeats = 10"
   ]
  },
  {
   "cell_type": "code",
   "execution_count": 6,
   "id": "30e36f3c-e055-455a-ad77-13607c0a7440",
   "metadata": {},
   "outputs": [
    {
     "name": "stdout",
     "output_type": "stream",
     "text": [
      "trial 0\n"
     ]
    },
    {
     "data": {
      "application/vnd.jupyter.widget-view+json": {
       "model_id": "a84753f39cee4bb3ab5475f365438cb0",
       "version_major": 2,
       "version_minor": 0
      },
      "text/plain": [
       "  0%|          | 0/50 [00:00<?, ?it/s]"
      ]
     },
     "metadata": {},
     "output_type": "display_data"
    },
    {
     "name": "stdout",
     "output_type": "stream",
     "text": [
      "trial 1\n"
     ]
    },
    {
     "data": {
      "application/vnd.jupyter.widget-view+json": {
       "model_id": "40e86697e884479bb82b50e94dd50e4f",
       "version_major": 2,
       "version_minor": 0
      },
      "text/plain": [
       "  0%|          | 0/50 [00:00<?, ?it/s]"
      ]
     },
     "metadata": {},
     "output_type": "display_data"
    },
    {
     "name": "stdout",
     "output_type": "stream",
     "text": [
      "trial 2\n"
     ]
    },
    {
     "data": {
      "application/vnd.jupyter.widget-view+json": {
       "model_id": "d5fea94c6e464643adcb326dd67c39eb",
       "version_major": 2,
       "version_minor": 0
      },
      "text/plain": [
       "  0%|          | 0/50 [00:00<?, ?it/s]"
      ]
     },
     "metadata": {},
     "output_type": "display_data"
    },
    {
     "name": "stdout",
     "output_type": "stream",
     "text": [
      "trial 3\n"
     ]
    },
    {
     "data": {
      "application/vnd.jupyter.widget-view+json": {
       "model_id": "fca10d4b20b74cf499fae33171f23ddb",
       "version_major": 2,
       "version_minor": 0
      },
      "text/plain": [
       "  0%|          | 0/50 [00:00<?, ?it/s]"
      ]
     },
     "metadata": {},
     "output_type": "display_data"
    },
    {
     "name": "stdout",
     "output_type": "stream",
     "text": [
      "trial 4\n"
     ]
    },
    {
     "data": {
      "application/vnd.jupyter.widget-view+json": {
       "model_id": "b277305b784d459fb2eee542756e7def",
       "version_major": 2,
       "version_minor": 0
      },
      "text/plain": [
       "  0%|          | 0/50 [00:00<?, ?it/s]"
      ]
     },
     "metadata": {},
     "output_type": "display_data"
    },
    {
     "name": "stdout",
     "output_type": "stream",
     "text": [
      "trial 5\n"
     ]
    },
    {
     "data": {
      "application/vnd.jupyter.widget-view+json": {
       "model_id": "6766dc8ead87482a8d192e957e3731a3",
       "version_major": 2,
       "version_minor": 0
      },
      "text/plain": [
       "  0%|          | 0/50 [00:00<?, ?it/s]"
      ]
     },
     "metadata": {},
     "output_type": "display_data"
    },
    {
     "name": "stdout",
     "output_type": "stream",
     "text": [
      "trial 6\n"
     ]
    },
    {
     "data": {
      "application/vnd.jupyter.widget-view+json": {
       "model_id": "396ebef4d84942369c285f7ad65822e1",
       "version_major": 2,
       "version_minor": 0
      },
      "text/plain": [
       "  0%|          | 0/50 [00:00<?, ?it/s]"
      ]
     },
     "metadata": {},
     "output_type": "display_data"
    },
    {
     "name": "stdout",
     "output_type": "stream",
     "text": [
      "trial 7\n"
     ]
    },
    {
     "data": {
      "application/vnd.jupyter.widget-view+json": {
       "model_id": "e3335375027246f6b8ac8b5dbea88ede",
       "version_major": 2,
       "version_minor": 0
      },
      "text/plain": [
       "  0%|          | 0/50 [00:00<?, ?it/s]"
      ]
     },
     "metadata": {},
     "output_type": "display_data"
    },
    {
     "name": "stdout",
     "output_type": "stream",
     "text": [
      "trial 8\n"
     ]
    },
    {
     "data": {
      "application/vnd.jupyter.widget-view+json": {
       "model_id": "e6c897fa8839433a9eddaad0b6386c3b",
       "version_major": 2,
       "version_minor": 0
      },
      "text/plain": [
       "  0%|          | 0/50 [00:00<?, ?it/s]"
      ]
     },
     "metadata": {},
     "output_type": "display_data"
    },
    {
     "name": "stdout",
     "output_type": "stream",
     "text": [
      "trial 9\n"
     ]
    },
    {
     "data": {
      "application/vnd.jupyter.widget-view+json": {
       "model_id": "e7d2211ba83248e1bee8aede83560ce8",
       "version_major": 2,
       "version_minor": 0
      },
      "text/plain": [
       "  0%|          | 0/50 [00:00<?, ?it/s]"
      ]
     },
     "metadata": {},
     "output_type": "display_data"
    }
   ],
   "source": [
    "strategy = \"alt_ei\"  # \"alt_ei\" or \"ehvi\"\n",
    "strategy = strategy.upper()\n",
    "\n",
    "hypervolumes = torch.zeros((num_repeats, num_queries))\n",
    "\n",
    "for trial in range(num_repeats):\n",
    "    print(\"trial\", trial)\n",
    "    \n",
    "    torch.manual_seed(trial)\n",
    "    train_x = bounds[0] + (bounds[1] - bounds[0]) * torch.rand(1, 4)\n",
    "    train_y = joint_objective(train_x)\n",
    "    \n",
    "    for i in tqdm(range(num_queries)):\n",
    "        dominated_part = DominatedPartitioning(ref_point, train_y)\n",
    "        hypervolumes[trial, i] = dominated_part.compute_hypervolume().item()\n",
    "        \n",
    "        model1, likelihood1 = fit_gp_model(train_x, train_y[:, 0])\n",
    "        model2, likelihood2 = fit_gp_model(train_x, train_y[:, 1])\n",
    "        \n",
    "        if strategy == \"ALT_EI\":\n",
    "            if i % 2 == 0:\n",
    "                model = model1\n",
    "                best_f = train_y[:, 0].max()\n",
    "            else:\n",
    "                model = model2\n",
    "                best_f = train_y[:, 1].max()\n",
    "            \n",
    "            policy = ExpectedImprovement(model=model, best_f=best_f)\n",
    "        \n",
    "        if strategy == \"EHVI\":\n",
    "            with warnings.catch_warnings():\n",
    "                warnings.simplefilter(\"ignore\")\n",
    "                \n",
    "                policy = ExpectedHypervolumeImprovement(\n",
    "                    model=ModelListGP(model1, model2),\n",
    "                    ref_point=ref_point,\n",
    "                    partitioning=FastNondominatedPartitioning(ref_point, train_y)\n",
    "                )\n",
    "        \n",
    "        with warnings.catch_warnings():\n",
    "            warnings.filterwarnings('ignore', category=RuntimeWarning)\n",
    "            next_x, acq_val = optimize_acqf(\n",
    "                policy,\n",
    "                bounds=bounds,\n",
    "                q=1,\n",
    "                num_restarts=100,\n",
    "                raw_samples=500\n",
    "            )\n",
    "        \n",
    "        next_y = joint_objective(next_x)\n",
    "        \n",
    "        train_x = torch.cat([train_x, next_x])\n",
    "        train_y = torch.cat([train_y, next_y])"
   ]
  },
  {
   "cell_type": "code",
   "execution_count": 7,
   "id": "ae924507-ec52-4838-9163-1f407420cfe3",
   "metadata": {},
   "outputs": [],
   "source": [
    "torch.save(hypervolumes, f\"./airplane_design/{strategy}.pth\")"
   ]
  },
  {
   "cell_type": "code",
   "execution_count": 9,
   "id": "153ae2a3-769a-457a-a9ea-5701a5284236",
   "metadata": {},
   "outputs": [
    {
     "data": {
      "image/png": "[encoded data removed]",
      "text/plain": [
       "<Figure size 800x600 with 1 Axes>"
      ]
     },
     "metadata": {},
     "output_type": "display_data"
    }
   ],
   "source": [
    "def show_agg_progress(path, name, linestyle=\"solid\"):\n",
    "    def ci(y):\n",
    "        return 2 * y.std(axis=0) / np.sqrt(num_repeats)\n",
    "\n",
    "    incumbents = torch.load(path)\n",
    "    avg_incumbent = incumbents.mean(axis=0)\n",
    "    ci_incumbent = ci(incumbents)\n",
    "\n",
    "    plt.plot(avg_incumbent, linestyle=linestyle, label=name)\n",
    "    plt.fill_between(\n",
    "        np.arange(num_queries),\n",
    "        avg_incumbent + ci_incumbent,\n",
    "        avg_incumbent - ci_incumbent,\n",
    "        alpha=0.1,\n",
    "    )\n",
    "\n",
    "\n",
    "show_agg_progress(\"./airplane_design/EHVI.pth\", \"EHVI\",)\n",
    "show_agg_progress(\"./airplane_design/ALT_EI.pth\", \"alt. EI\", linestyle=\"--\")\n",
    "\n",
    "plt.xlabel(\"# queries\", fontsize=15)\n",
    "plt.ylabel(\"hyper-volume\", fontsize=15)\n",
    "\n",
    "plt.legend(fontsize=15);"
   ]
  },
  {
   "cell_type": "code",
   "execution_count": null,
   "id": "68e40338-c126-4a81-8e45-bda8ca7f1f3c",
   "metadata": {},
   "outputs": [],
   "source": []
  }
 ],
 "metadata": {
  "kernelspec": {
   "display_name": "Python 3 (ipykernel)",
   "language": "python",
   "name": "python3"
  },
  "language_info": {
   "codemirror_mode": {
    "name": "ipython",
    "version": 3
   },
   "file_extension": ".py",
   "mimetype": "text/x-python",
   "name": "python",
   "nbconvert_exporter": "python",
   "pygments_lexer": "ipython3",
   "version": "3.10.9"
  }
 },
 "nbformat": 4,
 "nbformat_minor": 5
}
