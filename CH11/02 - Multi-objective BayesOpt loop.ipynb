{
 "cells": [
  {
   "cell_type": "code",
   "execution_count": 1,
   "id": "17b7b565-1918-4574-af9c-b8e9f2818e91",
   "metadata": {},
   "outputs": [],
   "source": [
    "import numpy as np\n",
    "import torch\n",
    "\n",
    "torch.manual_seed(0)\n",
    "\n",
    "import gpytorch\n",
    "import botorch\n",
    "\n",
    "from botorch.utils.multi_objective.pareto import is_non_dominated\n",
    "from botorch.utils.multi_objective.box_decompositions.dominated import DominatedPartitioning\n",
    "from botorch.utils.multi_objective.box_decompositions.non_dominated import FastNondominatedPartitioning\n",
    "from botorch.models.model_list_gp_regression import ModelListGP\n",
    "\n",
    "from botorch.acquisition.analytic import ExpectedImprovement\n",
    "from botorch.acquisition.multi_objective.analytic import ExpectedHypervolumeImprovement\n",
    "\n",
    "from botorch.optim.optimize import optimize_acqf\n",
    "\n",
    "import matplotlib.pyplot as plt\n",
    "\n",
    "plt.style.use(\"bmh\")\n",
    "plt.rcParams[\"figure.figsize\"] = (8, 6)\n",
    "\n",
    "from tqdm.notebook import tqdm\n",
    "import warnings"
   ]
  },
  {
   "cell_type": "code",
   "execution_count": 2,
   "id": "b4013ba3-629b-43ad-a27a-156eae7ba0e1",
   "metadata": {},
   "outputs": [],
   "source": [
    "def objective1(x):\n",
    "    # a modification of https://www.sfu.ca/~ssurjano/forretal08.html\n",
    "    y = -((x + 1) ** 2) * torch.sin(2 * x + 2) / 5 + 1 + x / 20\n",
    "    return y\n",
    "\n",
    "\n",
    "def objective2(x):\n",
    "    return (0.1 * objective1(x) + objective1(x - 4)) / 3 - x / 3 + 0.5\n",
    "\n",
    "\n",
    "def joint_objective(x):\n",
    "    y1 = objective1(x)\n",
    "    y2 = objective2(x)\n",
    "    \n",
    "    return torch.vstack([y1.flatten(), y2.flatten()]).transpose(-1, -2)\n",
    "\n",
    "\n",
    "lb = -5\n",
    "ub = 5\n",
    "\n",
    "bounds = torch.tensor([[lb], [ub]], dtype=torch.float)\n",
    "\n",
    "xs = torch.linspace(lb, ub, 201)\n",
    "ys = joint_objective(xs)\n",
    "ref_point = torch.tensor([ys[:, 0].min(), ys[:, 1].min()])"
   ]
  },
  {
   "cell_type": "code",
   "execution_count": 3,
   "id": "e3015966-0257-483b-9534-0fa5bc610ca8",
   "metadata": {},
   "outputs": [],
   "source": [
    "class GPModel(gpytorch.models.ExactGP, botorch.models.gpytorch.GPyTorchModel):\n",
    "    _num_outputs = 1\n",
    "\n",
    "    def __init__(self, train_x, train_y, likelihood):\n",
    "        super().__init__(train_x, train_y, likelihood)\n",
    "        self.mean_module = gpytorch.means.ConstantMean()\n",
    "        self.covar_module = gpytorch.kernels.ScaleKernel(\n",
    "            gpytorch.kernels.MaternKernel(nu=2.5, ard_num_dims=1)\n",
    "        )\n",
    "\n",
    "    def forward(self, x):\n",
    "        mean_x = self.mean_module(x)\n",
    "        covar_x = self.covar_module(x)\n",
    "        return gpytorch.distributions.MultivariateNormal(mean_x, covar_x)\n",
    "\n",
    "\n",
    "def fit_gp_model(train_x, train_y, num_train_iters=500):\n",
    "    # declare the GP\n",
    "    noise = 1e-4\n",
    "\n",
    "    likelihood = gpytorch.likelihoods.GaussianLikelihood()\n",
    "    model = GPModel(train_x, train_y, likelihood)\n",
    "    model.likelihood.noise = noise\n",
    "\n",
    "    # train the hyperparameter (the constant)\n",
    "    optimizer = torch.optim.Adam(model.parameters(), lr=0.01)\n",
    "    mll = gpytorch.mlls.ExactMarginalLogLikelihood(likelihood, model)\n",
    "\n",
    "    model.train()\n",
    "    likelihood.train()\n",
    "\n",
    "    for i in range(num_train_iters):\n",
    "        optimizer.zero_grad()\n",
    "\n",
    "        output = model(train_x)\n",
    "        loss = -mll(output, train_y)\n",
    "\n",
    "        loss.backward()\n",
    "        optimizer.step()\n",
    "\n",
    "    model.eval()\n",
    "    likelihood.eval()\n",
    "\n",
    "    return model, likelihood"
   ]
  },
  {
   "cell_type": "code",
   "execution_count": 4,
   "id": "9ccbf4ff-1488-4835-a4c2-0676f6e6286d",
   "metadata": {},
   "outputs": [],
   "source": [
    "num_queries = 20\n",
    "num_repeats = 10"
   ]
  },
  {
   "cell_type": "code",
   "execution_count": 5,
   "id": "72689df1-ebc6-4756-bb6a-da6e8a90128f",
   "metadata": {
    "scrolled": true,
    "tags": []
   },
   "outputs": [
    {
     "name": "stdout",
     "output_type": "stream",
     "text": [
      "trial 0\n"
     ]
    },
    {
     "data": {
      "application/vnd.jupyter.widget-view+json": {
       "model_id": "ba88230944164fd39f351af3c24c56f4",
       "version_major": 2,
       "version_minor": 0
      },
      "text/plain": [
       "  0%|          | 0/20 [00:00<?, ?it/s]"
      ]
     },
     "metadata": {},
     "output_type": "display_data"
    },
    {
     "name": "stdout",
     "output_type": "stream",
     "text": [
      "trial 1\n"
     ]
    },
    {
     "data": {
      "application/vnd.jupyter.widget-view+json": {
       "model_id": "21c8092cf1b948f7a9fbe51a16c8c3e7",
       "version_major": 2,
       "version_minor": 0
      },
      "text/plain": [
       "  0%|          | 0/20 [00:00<?, ?it/s]"
      ]
     },
     "metadata": {},
     "output_type": "display_data"
    },
    {
     "name": "stdout",
     "output_type": "stream",
     "text": [
      "trial 2\n"
     ]
    },
    {
     "data": {
      "application/vnd.jupyter.widget-view+json": {
       "model_id": "484c88c8546e4fc8849d44d1ef92c1fc",
       "version_major": 2,
       "version_minor": 0
      },
      "text/plain": [
       "  0%|          | 0/20 [00:00<?, ?it/s]"
      ]
     },
     "metadata": {},
     "output_type": "display_data"
    },
    {
     "name": "stdout",
     "output_type": "stream",
     "text": [
      "trial 3\n"
     ]
    },
    {
     "data": {
      "application/vnd.jupyter.widget-view+json": {
       "model_id": "5baa0fde2c8d4d7285d35353514bbd97",
       "version_major": 2,
       "version_minor": 0
      },
      "text/plain": [
       "  0%|          | 0/20 [00:00<?, ?it/s]"
      ]
     },
     "metadata": {},
     "output_type": "display_data"
    },
    {
     "name": "stdout",
     "output_type": "stream",
     "text": [
      "trial 4\n"
     ]
    },
    {
     "data": {
      "application/vnd.jupyter.widget-view+json": {
       "model_id": "e9b481f3f43c4675b42ec78aca143fee",
       "version_major": 2,
       "version_minor": 0
      },
      "text/plain": [
       "  0%|          | 0/20 [00:00<?, ?it/s]"
      ]
     },
     "metadata": {},
     "output_type": "display_data"
    },
    {
     "name": "stdout",
     "output_type": "stream",
     "text": [
      "trial 5\n"
     ]
    },
    {
     "data": {
      "application/vnd.jupyter.widget-view+json": {
       "model_id": "a0365e054bd6467f8e846bcb36e4f945",
       "version_major": 2,
       "version_minor": 0
      },
      "text/plain": [
       "  0%|          | 0/20 [00:00<?, ?it/s]"
      ]
     },
     "metadata": {},
     "output_type": "display_data"
    },
    {
     "name": "stdout",
     "output_type": "stream",
     "text": [
      "trial 6\n"
     ]
    },
    {
     "data": {
      "application/vnd.jupyter.widget-view+json": {
       "model_id": "770529930b0d405f928e60fc125737ec",
       "version_major": 2,
       "version_minor": 0
      },
      "text/plain": [
       "  0%|          | 0/20 [00:00<?, ?it/s]"
      ]
     },
     "metadata": {},
     "output_type": "display_data"
    },
    {
     "name": "stdout",
     "output_type": "stream",
     "text": [
      "trial 7\n"
     ]
    },
    {
     "data": {
      "application/vnd.jupyter.widget-view+json": {
       "model_id": "f3134472dc2846c38e14219b593a6840",
       "version_major": 2,
       "version_minor": 0
      },
      "text/plain": [
       "  0%|          | 0/20 [00:00<?, ?it/s]"
      ]
     },
     "metadata": {},
     "output_type": "display_data"
    },
    {
     "name": "stdout",
     "output_type": "stream",
     "text": [
      "trial 8\n"
     ]
    },
    {
     "data": {
      "application/vnd.jupyter.widget-view+json": {
       "model_id": "203b305be5964ed596352fc80e6cd9d1",
       "version_major": 2,
       "version_minor": 0
      },
      "text/plain": [
       "  0%|          | 0/20 [00:00<?, ?it/s]"
      ]
     },
     "metadata": {},
     "output_type": "display_data"
    },
    {
     "name": "stdout",
     "output_type": "stream",
     "text": [
      "trial 9\n"
     ]
    },
    {
     "data": {
      "application/vnd.jupyter.widget-view+json": {
       "model_id": "44eae4828031490881190bf5147c7b3d",
       "version_major": 2,
       "version_minor": 0
      },
      "text/plain": [
       "  0%|          | 0/20 [00:00<?, ?it/s]"
      ]
     },
     "metadata": {},
     "output_type": "display_data"
    }
   ],
   "source": [
    "strategy = \"alt_ei\"  # \"alt_ei\" or \"ehvi\"\n",
    "strategy = strategy.upper()\n",
    "\n",
    "hypervolumes = torch.zeros((num_repeats, num_queries))\n",
    "\n",
    "for trial in range(num_repeats):\n",
    "    print(\"trial\", trial)\n",
    "    \n",
    "    torch.manual_seed(trial)\n",
    "    train_x = bounds[0] + (bounds[1] - bounds[0]) * torch.rand(1, 1)\n",
    "    train_y = joint_objective(train_x)\n",
    "    \n",
    "    for i in tqdm(range(num_queries)):\n",
    "        dominated_part = DominatedPartitioning(ref_point, train_y)\n",
    "        hypervolumes[trial, i] = dominated_part.compute_hypervolume().item()\n",
    "        \n",
    "        model1, likelihood1 = fit_gp_model(train_x, train_y[:, 0])\n",
    "        model2, likelihood2 = fit_gp_model(train_x, train_y[:, 1])\n",
    "        \n",
    "        if strategy == \"ALT_EI\":\n",
    "            if i % 2 == 0:\n",
    "                model = model1\n",
    "                best_f = train_y[:, 0].max()\n",
    "            else:\n",
    "                model = model2\n",
    "                best_f = train_y[:, 1].max()\n",
    "            \n",
    "            policy = ExpectedImprovement(model=model, best_f=best_f)\n",
    "        \n",
    "        if strategy == \"EHVI\":\n",
    "            with warnings.catch_warnings():\n",
    "                warnings.simplefilter(\"ignore\")\n",
    "                \n",
    "                policy = ExpectedHypervolumeImprovement(\n",
    "                    model=ModelListGP(model1, model2),\n",
    "                    ref_point=ref_point,\n",
    "                    partitioning=FastNondominatedPartitioning(ref_point, train_y)\n",
    "                )\n",
    "        \n",
    "        with warnings.catch_warnings():\n",
    "            warnings.filterwarnings('ignore', category=RuntimeWarning)\n",
    "            next_x, acq_val = optimize_acqf(\n",
    "                policy,\n",
    "                bounds=bounds,\n",
    "                q=1,\n",
    "                num_restarts=20,\n",
    "                raw_samples=50\n",
    "            )\n",
    "        \n",
    "        next_y = joint_objective(next_x)\n",
    "        \n",
    "        train_x = torch.cat([train_x, next_x])\n",
    "        train_y = torch.cat([train_y, next_y])"
   ]
  },
  {
   "cell_type": "code",
   "execution_count": 6,
   "id": "3a762f02-7537-4d0c-be7d-58b30412f550",
   "metadata": {},
   "outputs": [],
   "source": [
    "torch.save(hypervolumes, f\"./forrester/{strategy}.pth\")"
   ]
  },
  {
   "cell_type": "code",
   "execution_count": 7,
   "id": "2a6eedc8-36b0-48c0-b1f8-b821823ead2d",
   "metadata": {},
   "outputs": [
    {
     "data": {
      "image/png": "[encoded data removed]",
      "text/plain": [
       "<Figure size 800x600 with 1 Axes>"
      ]
     },
     "metadata": {},
     "output_type": "display_data"
    }
   ],
   "source": [
    "def show_agg_progress(path, name, linestyle=\"solid\"):\n",
    "    def ci(y):\n",
    "        return 2 * y.std(axis=0) / np.sqrt(num_repeats)\n",
    "\n",
    "    incumbents = torch.load(path)\n",
    "    avg_incumbent = incumbents.mean(axis=0)\n",
    "    ci_incumbent = ci(incumbents)\n",
    "\n",
    "    plt.plot(avg_incumbent, linestyle=linestyle, label=name)\n",
    "    plt.fill_between(\n",
    "        np.arange(num_queries),\n",
    "        avg_incumbent + ci_incumbent,\n",
    "        avg_incumbent - ci_incumbent,\n",
    "        alpha=0.1,\n",
    "    )\n",
    "\n",
    "\n",
    "show_agg_progress(\"./forrester/EHVI.pth\", \"EHVI\",)\n",
    "show_agg_progress(\"./forrester/ALT_EI.pth\", \"alt. EI\", linestyle=\"--\")\n",
    "\n",
    "plt.xlabel(\"# queries\", fontsize=15)\n",
    "plt.ylabel(\"hyper-volume\", fontsize=15)\n",
    "\n",
    "plt.legend(fontsize=15);"
   ]
  },
  {
   "cell_type": "code",
   "execution_count": 9,
   "id": "2897489d-719b-407e-a948-c6887fe780ee",
   "metadata": {},
   "outputs": [],
   "source": [
    "torch.save(train_x, \"./forrester/train_x.pth\")\n",
    "torch.save(train_y, \"./forrester/train_y.pth\")"
   ]
  },
  {
   "cell_type": "code",
   "execution_count": null,
   "id": "3db84d1a-1e23-413f-8990-443b4dff58dd",
   "metadata": {},
   "outputs": [],
   "source": []
  }
 ],
 "metadata": {
  "kernelspec": {
   "display_name": "Python 3 (ipykernel)",
   "language": "python",
   "name": "python3"
  },
  "language_info": {
   "codemirror_mode": {
    "name": "ipython",
    "version": 3
   },
   "file_extension": ".py",
   "mimetype": "text/x-python",
   "name": "python",
   "nbconvert_exporter": "python",
   "pygments_lexer": "ipython3",
   "version": "3.10.9"
  }
 },
 "nbformat": 4,
 "nbformat_minor": 5
}
